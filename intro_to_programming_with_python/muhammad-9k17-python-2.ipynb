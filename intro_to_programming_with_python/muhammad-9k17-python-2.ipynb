{
 "cells": [
  {
   "cell_type": "markdown",
   "metadata": {},
   "source": [
    "# Tugas Python 2\n",
    "\n",
    "* Silakan download dan kerjakan soal berikut dimanapun (laptop pribadi/google colab/etc.)\n",
    "* Setelah selesai mengerjakan, upload file ini di tempat yang telah disediakan pada platform.\n",
    "* Peserta **wajib** memberi nama file seperti berikut: {username}-python-2.ipynb\n",
    "* **Contoh: johndoe1-t123-python-2.ipynb**\n",
    "* Username dapat dilihat di dalam akun anda.\n",
    "* Jika format nama tidak sesuai dengan ketentuan, maka tugas **tidak akan dinilai**.\n",
    "* Mohon jangan mengubah nama variabel yang telah diberikan.\n",
    "* Pada titik-titik yang diberikan masukkanlah variabel yang sesuai.\n",
    "* Namun anda diperbolehkan untuk menambah kode apapun apapun.\n",
    "---"
   ]
  },
  {
   "cell_type": "markdown",
   "metadata": {},
   "source": [
    "## Contoh Menjawab"
   ]
  },
  {
   "cell_type": "markdown",
   "metadata": {},
   "source": [
    "0. Suatu organisasi memiliki jumlah anggota 120. Ketika akan memulai rapat, jumlah peserta harus minimal $0.5n + 1$. Pada suatu hari, jumlah peserta yang hadir adalah 50. Tentukan rapat dilaksanakan atau tidak."
   ]
  },
  {
   "cell_type": "code",
   "execution_count": null,
   "metadata": {},
   "outputs": [],
   "source": [
    "minimal = ... #ganti titik-titik dengan minimum jumlah peserta\n",
    "peserta_sekarang = 50\n",
    "\n",
    "#ganti semua titik-titik dengan kode yang tepat\n",
    "...:\n",
    "    jawaban_0 = 'Jadi rapat.'\n",
    "...:\n",
    "    jawaban_0 = 'Tidak jadi rapat.'"
   ]
  },
  {
   "cell_type": "markdown",
   "metadata": {},
   "source": [
    "**Contoh Jawaban** "
   ]
  },
  {
   "cell_type": "code",
   "execution_count": null,
   "metadata": {},
   "outputs": [],
   "source": [
    "anggota = 120\n",
    "minimal = 0.5*anggota + 1\n",
    "peserta_sekarang = 50\n",
    "\n",
    "if peserta_sekarang >= minimal:\n",
    "    jawaban_0 = 'Jadi rapat.'\n",
    "else:\n",
    "    jawaban_0 = 'Tidak jadi rapat.'\n",
    "\n",
    "print(jawaban_0) # ini tidak wajib, bisa digunakan jika anda ingin mengecek jawaban anda"
   ]
  },
  {
   "cell_type": "markdown",
   "metadata": {},
   "source": [
    "---\n",
    "---\n",
    "## Soal"
   ]
  },
  {
   "cell_type": "markdown",
   "metadata": {},
   "source": [
    "1. Untuk lulus mata kuliah statistika, perlu nilai akhir minimal 55. Gunakan operator _comparison_ untuk menentukan apakah Amir lulus mata kuliah tersebut atau tidak, bila diberikan nilai akhir Amir adalah 70."
   ]
  },
  {
   "cell_type": "code",
   "execution_count": 1,
   "metadata": {},
   "outputs": [
    {
     "name": "stdout",
     "output_type": "stream",
     "text": [
      "Selamat, Anda lulus mata kuliah Statistika.\n"
     ]
    }
   ],
   "source": [
    "nilai_amir = 70\n",
    "nilai_minimal = 55\n",
    "\n",
    "if nilai_amir >= nilai_minimal:\n",
    "    jawaban_1 = \"Selamat, Anda lulus mata kuliah Statistika.\"\n",
    "else:\n",
    "    jawaban_1 = \"Maaf, Anda tidak lulus mata kuliah Statistika.\"\n",
    "\n",
    "print(jawaban_1)"
   ]
  },
  {
   "cell_type": "markdown",
   "metadata": {},
   "source": [
    "2. Tentukan nilai kebenaran dari pernyataan berikut (True/False).\\\n",
    "$(13>12)$ OR ($11<10$ AND $9==8$)"
   ]
  },
  {
   "cell_type": "code",
   "execution_count": 2,
   "metadata": {},
   "outputs": [
    {
     "name": "stdout",
     "output_type": "stream",
     "text": [
      "True\n"
     ]
    }
   ],
   "source": [
    "jawaban_2 = (13 > 12) or ((11 < 10) and 9 == 8)\n",
    "print(jawaban_2)"
   ]
  },
  {
   "cell_type": "markdown",
   "metadata": {},
   "source": [
    "3. Tentukan apakah 123456789 habis dibagi 11 atau tidak."
   ]
  },
  {
   "cell_type": "code",
   "execution_count": 3,
   "metadata": {},
   "outputs": [
    {
     "name": "stdout",
     "output_type": "stream",
     "text": [
      "Tidak habis dibagi 11\n"
     ]
    }
   ],
   "source": [
    "bilangan = 123456789\n",
    "\n",
    "if bilangan % 11 == 0:\n",
    "    jawaban_3 = 'Habis dibagi 11'\n",
    "else:\n",
    "    jawaban_3 = 'Tidak habis dibagi 11'\n",
    "\n",
    "print(jawaban_3)"
   ]
  },
  {
   "cell_type": "markdown",
   "metadata": {},
   "source": [
    "4. Sistem keamanan yang dipasang di suatu bendungan akan memberikan alarm bahaya ketika tinggi air mencapai lebih dari 950 cm. Apabila tinggi air hari ini adalah 945 cm, tentukan apakah sistem akan memberikan alarm atau tidak."
   ]
  },
  {
   "cell_type": "code",
   "execution_count": 4,
   "metadata": {},
   "outputs": [
    {
     "name": "stdout",
     "output_type": "stream",
     "text": [
      "Tidak bahaya.\n"
     ]
    }
   ],
   "source": [
    "hari_ini = 945\n",
    "batasan = 950\n",
    "\n",
    "if hari_ini > batasan:\n",
    "    jawaban_4 = 'Bahaya!'\n",
    "else:\n",
    "    jawaban_4 = 'Tidak bahaya.'\n",
    "\n",
    "print(jawaban_4)"
   ]
  },
  {
   "cell_type": "markdown",
   "metadata": {},
   "source": [
    "5. Pak Man berbelanja di sebuah minimarket. Pak Man membeli 2 kg telur, 2 kotak susu, dan 5 bungkus mie instan. Harga masing-masing barang diberikan oleh tabel berikut.\n",
    "\n",
    "|Barang|Harga|\n",
    "|------|-----|\n",
    "|Telur|Rp 17000/kg|\n",
    "|Susu|Rp 28000/kotak|\n",
    "|Mie instan|Rp 2000/bungkus|\n",
    "\n",
    "Pak Man membawa uang Rp 100.000. Cek apakah uang Pak Man pas untuk membayar belanjaannya atau tidak."
   ]
  },
  {
   "cell_type": "code",
   "execution_count": 5,
   "metadata": {},
   "outputs": [
    {
     "name": "stdout",
     "output_type": "stream",
     "text": [
      "Uang pas.\n"
     ]
    }
   ],
   "source": [
    "total_belanja = (2 * 17000) + (2 * 28000) + (5 * 2000)\n",
    "uang_pakman = 100000\n",
    "\n",
    "#ganti titik-titik dengan kode yang tepat\n",
    "if uang_pakman > total_belanja:\n",
    "    jawaban_5 = 'Uang lebih.'\n",
    "elif uang_pakman == total_belanja:\n",
    "    jawaban_5 = 'Uang pas.'\n",
    "else:\n",
    "    jawaban_5 = 'Uang kurang.'\n",
    "\n",
    "print(jawaban_5)"
   ]
  },
  {
   "cell_type": "markdown",
   "metadata": {},
   "source": [
    "6. Arin mengikuti ujian mata kuliah Pemrograman. Jika nilai ujiannya di bawah 75, ia harus mengikuti perbaikan. Sebaliknya, jika nilai ujiannya 75 atau lebih, ia tidak perlu melakukan apa-apa. Ternyata, nilainya adalah 74. Apakah Arin memerlukan perbaikan ujian? Lengkapi _syntax_ di bawah ini."
   ]
  },
  {
   "cell_type": "code",
   "execution_count": 6,
   "metadata": {},
   "outputs": [
    {
     "name": "stdout",
     "output_type": "stream",
     "text": [
      "Perlu perbaikan.\n"
     ]
    }
   ],
   "source": [
    "nilai_arin = 74 #ganti titik-titik dengan nilai Arin\n",
    "nilai_minimal = 75\n",
    "\n",
    "#ganti semua titik-titik dengan kode yang tepat\n",
    "if nilai_arin >= nilai_minimal:\n",
    "    pass\n",
    "else:\n",
    "    jawaban_6 = 'Perlu perbaikan.'\n",
    "\n",
    "print(jawaban_6)"
   ]
  },
  {
   "cell_type": "markdown",
   "metadata": {},
   "source": [
    "7. Pada suatu agensi model, seleksi kandidat model dilakukan berdasarkan tinggi badan. Rata-rata tinggi model di agensi tersebut adalah 165 cm. Agensi menginginkan model yang memiliki tinggi yang seragam dengan rata-rata, namun mereka masih mau menerima model dengan toleransi tinggi 5 cm dari rata-rata. Artinya, kandidat yang diterima adalah kandidat dengan tinggi minimal 5 cm di bawah rata-rata sampai maksimal 5 cm di atas rata-rata. Apakah kandidat dengan tinggi 167 cm akan diterima agensi tersebut?"
   ]
  },
  {
   "cell_type": "code",
   "execution_count": 7,
   "metadata": {},
   "outputs": [
    {
     "name": "stdout",
     "output_type": "stream",
     "text": [
      "Diterima\n"
     ]
    }
   ],
   "source": [
    "tinggi_model = 167\n",
    "\n",
    "#ganti semua titik-titik dengan kode yang benar\n",
    "if 160 <= tinggi_model <= 170:\n",
    "    jawaban_7 = 'Diterima'\n",
    "else:\n",
    "    jawaban_7 = 'Tidak diterima'\n",
    "    \n",
    "print(jawaban_7)"
   ]
  },
  {
   "cell_type": "markdown",
   "metadata": {},
   "source": [
    "8. Suatu sekolah menyeleksi calon siswa baru berdasarkan nilai tes Matematika dan Bahasa Inggris. Calon siswa diterima di sekolah tersebut apabila nilai tes keduanya tidak ada yang kurang dari 75. Calon siswa yang diterima akan dibagi ke dalam tiga kelas: Kelas A, Kelas B, dan Kelas C. Kriterianya adalah sebagai berikut:\n",
    "* Kelas A: nilai Matematika > 85 dan nilai Bahasa Inggris $\\geq$ 80\n",
    "* Kelas B: nilai Matematika > 80 dan nilai Bahasa Inggris $\\geq$ 77.5\n",
    "* Sisanya akan masuk ke kelas C\\\n",
    "\\\n",
    "Rudi mendapatkan nilai tes Matematika 84 dan tes Bahasa Inggris 77.5. Apakah Rudi diterima sebagai siswa sekolah tersebut? Jika ya, masuk ke kelas manakah dia?"
   ]
  },
  {
   "cell_type": "code",
   "execution_count": 8,
   "metadata": {},
   "outputs": [
    {
     "name": "stdout",
     "output_type": "stream",
     "text": [
      "Kelas B\n"
     ]
    }
   ],
   "source": [
    "nilai_mtk = 84 #ganti titik-titik dengan nilai Matematika Rudi\n",
    "nilai_ing = 77.5 #ganti titik-titik dengan nilai Bahasa Inggris Rudi\n",
    "\n",
    "#ganti semua titik-titik dengan kode yang benar.\n",
    "if nilai_mtk >= 75 and nilai_ing >= 75:\n",
    "    if nilai_mtk > 85 and nilai_ing >= 80:\n",
    "        jawaban_8 = 'Kelas A'\n",
    "    elif nilai_mtk > 80 and nilai_ing >= 77.5:\n",
    "        jawaban_8 = 'Kelas B'\n",
    "    else:\n",
    "        jawaban_8 = 'Kelas C'\n",
    "else:\n",
    "    jawaban_8 = 'Tidak diterima'\n",
    "\n",
    "print(jawaban_8)"
   ]
  },
  {
   "cell_type": "markdown",
   "metadata": {},
   "source": [
    "9. Keluarkan semua bilangan kelipatan 8 yang nilai kuadratnya di bawah 600."
   ]
  },
  {
   "cell_type": "code",
   "execution_count": 9,
   "metadata": {
    "scrolled": true
   },
   "outputs": [
    {
     "name": "stdout",
     "output_type": "stream",
     "text": [
      "8\n",
      "16\n",
      "24\n"
     ]
    }
   ],
   "source": [
    "i = 1\n",
    "jawaban_9 = 600 #ganti dengan angka yang tepat\n",
    "\n",
    "#ganti titik-titik dengan kode yang tepat\n",
    "while (8*i)**2 < jawaban_9:\n",
    "    print(8*i)\n",
    "    i+=1"
   ]
  },
  {
   "cell_type": "markdown",
   "metadata": {},
   "source": [
    "10. Hitung jumlah kuadrat dari bilangan bulat mulai dari 1 sampai 10.\\\n",
    "$$1^2 + 2^2 + \\dots + 10^2$$"
   ]
  },
  {
   "cell_type": "code",
   "execution_count": 10,
   "metadata": {},
   "outputs": [
    {
     "name": "stdout",
     "output_type": "stream",
     "text": [
      "385\n"
     ]
    }
   ],
   "source": [
    "jawaban_10 = 0\n",
    "\n",
    "#ganti semua titik-titik dengan kode yang tepat\n",
    "for i in range(1,11):\n",
    "    jawaban_10 += i**2\n",
    "    \n",
    "print(jawaban_10)"
   ]
  },
  {
   "cell_type": "markdown",
   "metadata": {},
   "source": [
    "11. Keluarkan semua bilangan mulai dari 10 sampai 50, loncat 4.\\\n",
    "$$10, 14, 18, \\dots$$"
   ]
  },
  {
   "cell_type": "code",
   "execution_count": 11,
   "metadata": {},
   "outputs": [
    {
     "name": "stdout",
     "output_type": "stream",
     "text": [
      "10 14 18 22 26 30 34 38 42 46 50 "
     ]
    }
   ],
   "source": [
    "jawaban_11 = 10 #ganti titik-titik di samping dengan bilangan awalnya.\n",
    "\n",
    "#tulis kodenya dibawah ini\n",
    "while jawaban_11 <= 50:\n",
    "    print(jawaban_11, end=\" \")\n",
    "    jawaban_11 += 4"
   ]
  },
  {
   "cell_type": "markdown",
   "metadata": {},
   "source": [
    "12. Jabarkan huruf dari kata 'onomatopoeia', namun hentikan penjabaran ketika program sudah mengeluarkan huruf 't'. _Expected output_:\n",
    "```\n",
    "o\n",
    "n\n",
    "o\n",
    "m\n",
    "a\n",
    "t\n",
    "```"
   ]
  },
  {
   "cell_type": "code",
   "execution_count": 12,
   "metadata": {},
   "outputs": [
    {
     "name": "stdout",
     "output_type": "stream",
     "text": [
      "o\n",
      "n\n",
      "o\n",
      "m\n",
      "a\n",
      "t\n"
     ]
    }
   ],
   "source": [
    "kata = 'onomatopoeia'\n",
    "\n",
    "#ganti titik-titik dengan kode yang tepat\n",
    "for jawaban_12 in kata:\n",
    "    print(jawaban_12)\n",
    "    if jawaban_12 == 't':\n",
    "        break"
   ]
  },
  {
   "cell_type": "markdown",
   "metadata": {},
   "source": [
    "13. Keluarkan semua bilangan asli kurang dari 21, namun bilangan kelipatan 4 tidak diikutsertakan."
   ]
  },
  {
   "cell_type": "code",
   "execution_count": 13,
   "metadata": {},
   "outputs": [
    {
     "name": "stdout",
     "output_type": "stream",
     "text": [
      "1\n",
      "2\n",
      "3\n",
      "5\n",
      "6\n",
      "7\n",
      "9\n",
      "10\n",
      "11\n",
      "13\n",
      "14\n",
      "15\n",
      "17\n",
      "18\n",
      "19\n"
     ]
    }
   ],
   "source": [
    "#ganti semua titik-titik dengan kode yang tepat\n",
    "jawaban_13 = 0\n",
    "\n",
    "while jawaban_13 < 20:\n",
    "    jawaban_13 += 1\n",
    "    if jawaban_13 % 4 == 0:\n",
    "        continue\n",
    "    print(jawaban_13)"
   ]
  },
  {
   "cell_type": "markdown",
   "metadata": {},
   "source": [
    "14. Berapa jumlah semua bilangan asli kurang dari atau sama dengan 50, namun bilangan kelipatan 3 tidak diikutsertakan? Dengan kata lain, hitunglah $1+2+4+5+7+8+\\dots+50$."
   ]
  },
  {
   "cell_type": "code",
   "execution_count": 14,
   "metadata": {},
   "outputs": [
    {
     "name": "stdout",
     "output_type": "stream",
     "text": [
      "867\n"
     ]
    }
   ],
   "source": [
    "jawaban_14 = 0\n",
    "\n",
    "#ganti titik-titik dengan kode yang tepat\n",
    "for i in range(1,51):\n",
    "    if i % 3 == 0:\n",
    "        continue\n",
    "    jawaban_14+=i\n",
    "    \n",
    "print(jawaban_14)"
   ]
  },
  {
   "cell_type": "markdown",
   "metadata": {},
   "source": [
    "15. Keluarkan semua bilangan asli yang nilai kuadratnya lebih dari 20, dengan syarat:\n",
    "* bilangan yang habis dibagi 3 atau 4 tidak ikut dikeluarkan, dan\n",
    "* jika nilai kuadratnya sudah melewati 625, maka program berhenti."
   ]
  },
  {
   "cell_type": "code",
   "execution_count": 15,
   "metadata": {},
   "outputs": [
    {
     "name": "stdout",
     "output_type": "stream",
     "text": [
      "5\n",
      "7\n",
      "10\n",
      "11\n",
      "13\n",
      "14\n",
      "17\n",
      "19\n",
      "22\n",
      "23\n",
      "25\n"
     ]
    }
   ],
   "source": [
    "#ganti titik-titik dengan kode yang tepat\n",
    "for jawaban_15 in range(1,30):\n",
    "    if jawaban_15**2 > 20:\n",
    "        if jawaban_15**2 > 625:\n",
    "            break\n",
    "        elif jawaban_15 % 3 == 0 or jawaban_15 % 4 == 0:\n",
    "            continue\n",
    "        print(jawaban_15)"
   ]
  },
  {
   "cell_type": "code",
   "execution_count": null,
   "metadata": {},
   "outputs": [],
   "source": []
  }
 ],
 "metadata": {
  "kernelspec": {
   "display_name": "Python 3",
   "language": "python",
   "name": "python3"
  },
  "language_info": {
   "codemirror_mode": {
    "name": "ipython",
    "version": 3
   },
   "file_extension": ".py",
   "mimetype": "text/x-python",
   "name": "python",
   "nbconvert_exporter": "python",
   "pygments_lexer": "ipython3",
   "version": "3.8.3"
  }
 },
 "nbformat": 4,
 "nbformat_minor": 4
}
