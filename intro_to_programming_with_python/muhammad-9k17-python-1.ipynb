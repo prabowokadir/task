{
 "cells": [
  {
   "cell_type": "markdown",
   "metadata": {
    "colab_type": "text",
    "id": "UD0Rk7K2Td8e"
   },
   "source": [
    "# Tugas Python 1\n",
    "\n",
    "* Silakan download dan kerjakan soal berikut dimanapun (laptop pribadi/google colab/etc.)\n",
    "* Setelah selesai mengerjakan, upload file ini di tempat yang telah disediakan pada platform.\n",
    "* Beri nama file seperti berikut: {username}-python-1.ipynb\n",
    "* Contoh: testing-1123-python-1.ipynb\n",
    "* Username dapat dilihat di dalam akun anda.\n",
    "* Mohon **jangan mengubah** nama variabel yang telah diberikan.\n",
    "* Namun anda diperbolehkan untuk menambah variabel apapun.\n",
    "* Tutorial cara pengerjaan dapat dilihat [disini](https://discourse.pacmann.ai/t/pengumuman-video-tutorial/484).\n",
    "---"
   ]
  },
  {
   "cell_type": "markdown",
   "metadata": {
    "colab_type": "text",
    "id": "bZqvb9DZTd8f"
   },
   "source": [
    "1. Hitunglah $5+5$"
   ]
  },
  {
   "cell_type": "code",
   "execution_count": 1,
   "metadata": {
    "colab": {},
    "colab_type": "code",
    "id": "KKzA6UEKTd8g"
   },
   "outputs": [
    {
     "data": {
      "text/plain": [
       "10"
      ]
     },
     "execution_count": 1,
     "metadata": {},
     "output_type": "execute_result"
    }
   ],
   "source": [
    "jawaban_1 = 5+5\n",
    "jawaban_1"
   ]
  },
  {
   "cell_type": "markdown",
   "metadata": {
    "colab_type": "text",
    "id": "qUsiPFjiTd8j"
   },
   "source": [
    "2. Hitunglah $2^{10}$"
   ]
  },
  {
   "cell_type": "code",
   "execution_count": 2,
   "metadata": {
    "colab": {},
    "colab_type": "code",
    "id": "2lQTcQrmTd8j"
   },
   "outputs": [
    {
     "data": {
      "text/plain": [
       "1024"
      ]
     },
     "execution_count": 2,
     "metadata": {},
     "output_type": "execute_result"
    }
   ],
   "source": [
    "jawaban_2 = 2**10\n",
    "jawaban_2"
   ]
  },
  {
   "cell_type": "markdown",
   "metadata": {
    "colab_type": "text",
    "id": "dOgmA3iGTd8m"
   },
   "source": [
    "3. Buatlah sebuah string yang berisi nama anda."
   ]
  },
  {
   "cell_type": "code",
   "execution_count": 3,
   "metadata": {
    "colab": {},
    "colab_type": "code",
    "id": "Ofw9XYYGTd8m"
   },
   "outputs": [
    {
     "data": {
      "text/plain": [
       "'Muhammad Prabowo Kadir'"
      ]
     },
     "execution_count": 3,
     "metadata": {},
     "output_type": "execute_result"
    }
   ],
   "source": [
    "jawaban_3 = 'Muhammad Prabowo Kadir'\n",
    "jawaban_3"
   ]
  },
  {
   "cell_type": "markdown",
   "metadata": {
    "colab_type": "text",
    "id": "jLxNgetuTd8p"
   },
   "source": [
    "4. Ubahlah string berikut menjadi sebuah nilai integer"
   ]
  },
  {
   "cell_type": "code",
   "execution_count": 4,
   "metadata": {
    "colab": {},
    "colab_type": "code",
    "id": "AYwO7Lu1Td8p"
   },
   "outputs": [
    {
     "data": {
      "text/plain": [
       "1945"
      ]
     },
     "execution_count": 4,
     "metadata": {},
     "output_type": "execute_result"
    }
   ],
   "source": [
    "angka = \"1945\"\n",
    "jawaban_4 = int(angka)\n",
    "jawaban_4"
   ]
  },
  {
   "cell_type": "markdown",
   "metadata": {
    "colab_type": "text",
    "id": "HbytjGSkTd8s"
   },
   "source": [
    "5. Ubahlah float berikut menjadi sebuah string"
   ]
  },
  {
   "cell_type": "code",
   "execution_count": 5,
   "metadata": {
    "colab": {},
    "colab_type": "code",
    "id": "UI5Nb1QBTd8t"
   },
   "outputs": [
    {
     "data": {
      "text/plain": [
       "'3.14159265359'"
      ]
     },
     "execution_count": 5,
     "metadata": {},
     "output_type": "execute_result"
    }
   ],
   "source": [
    "pi = 3.14159265359\n",
    "jawaban_5 = str(pi)\n",
    "jawaban_5"
   ]
  },
  {
   "cell_type": "markdown",
   "metadata": {
    "colab_type": "text",
    "id": "Mco0ScDHTd8v"
   },
   "source": [
    "6. Ambillah karakter pertama dari string berikut"
   ]
  },
  {
   "cell_type": "code",
   "execution_count": 6,
   "metadata": {
    "colab": {},
    "colab_type": "code",
    "id": "Lsf74LcjTd8w"
   },
   "outputs": [
    {
     "data": {
      "text/plain": [
       "'p'"
      ]
     },
     "execution_count": 6,
     "metadata": {},
     "output_type": "execute_result"
    }
   ],
   "source": [
    "teks = \"pacmann\"\n",
    "jawaban_6 = teks[0]\n",
    "jawaban_6"
   ]
  },
  {
   "cell_type": "markdown",
   "metadata": {
    "colab_type": "text",
    "id": "UN8sfJ6FTd8z"
   },
   "source": [
    "7. Ambillah karakter terakhir dari string berikut."
   ]
  },
  {
   "cell_type": "code",
   "execution_count": 7,
   "metadata": {
    "colab": {},
    "colab_type": "code",
    "id": "8nN6pMipTd8z"
   },
   "outputs": [
    {
     "data": {
      "text/plain": [
       "'n'"
      ]
     },
     "execution_count": 7,
     "metadata": {},
     "output_type": "execute_result"
    }
   ],
   "source": [
    "teks = \"pacmann\"\n",
    "jawaban_7 = teks[-1]\n",
    "jawaban_7"
   ]
  },
  {
   "cell_type": "markdown",
   "metadata": {
    "colab_type": "text",
    "id": "tsnO_q6MTd81"
   },
   "source": [
    "8. Ambillah 4 karakter pertama dari string berikut dengan menggunakan slicing!"
   ]
  },
  {
   "cell_type": "code",
   "execution_count": 8,
   "metadata": {
    "colab": {},
    "colab_type": "code",
    "id": "hlYlO-aVTd82"
   },
   "outputs": [
    {
     "data": {
      "text/plain": [
       "'bang'"
      ]
     },
     "execution_count": 8,
     "metadata": {},
     "output_type": "execute_result"
    }
   ],
   "source": [
    "teks = \"bangunan\"\n",
    "jawaban_8 = teks[:4]\n",
    "jawaban_8"
   ]
  },
  {
   "cell_type": "markdown",
   "metadata": {
    "colab_type": "text",
    "id": "FVW1HaoFTd84"
   },
   "source": [
    "9. Tono memiliki 4 kelereng, Budi memiliki 5 kelereng. Berapakah total jumlah kelereng yang dimiliki mereka berdua?"
   ]
  },
  {
   "cell_type": "code",
   "execution_count": 9,
   "metadata": {
    "colab": {},
    "colab_type": "code",
    "id": "DJEC0cAmTd84"
   },
   "outputs": [
    {
     "name": "stdout",
     "output_type": "stream",
     "text": [
      "Jumlah kelereng yang dimiliki oleh Tono dan Budi adalah 9\n"
     ]
    }
   ],
   "source": [
    "kelereng_tono = 4\n",
    "kelereng_budi = 5\n",
    "jawaban_9 = kelereng_tono + kelereng_budi\n",
    "kalimat = \"Jumlah kelereng yang dimiliki oleh Tono dan Budi adalah {}\"\n",
    "print(kalimat.format(jawaban_9))"
   ]
  },
  {
   "cell_type": "markdown",
   "metadata": {
    "colab_type": "text",
    "id": "WafMPZFjTd87"
   },
   "source": [
    "10. Budi memiliki 10 lemper, dan Budi membagikan 10 lemper yang dimilikinya kepada 5 orang temannya secara rata. Berapa lemper yang diterima oleh masing-masing teman budi?"
   ]
  },
  {
   "cell_type": "code",
   "execution_count": 10,
   "metadata": {
    "colab": {},
    "colab_type": "code",
    "id": "MCvb-QrUTd87"
   },
   "outputs": [
    {
     "name": "stdout",
     "output_type": "stream",
     "text": [
      "Lemper yang diterima oleh masing-masing teman Budi adalah 2\n"
     ]
    }
   ],
   "source": [
    "lemper_budi = 10\n",
    "jawaban_10 = lemper_budi/5\n",
    "print(\"Lemper yang diterima oleh masing-masing teman Budi adalah \" + str(round(jawaban_10)))"
   ]
  },
  {
   "cell_type": "markdown",
   "metadata": {
    "colab_type": "text",
    "id": "hxbC4Cg8Td8-"
   },
   "source": [
    "11. Hitunglah nilai dari operasi matematik berikut $\\left(\\frac{3*8}{4}\\right) + (4*5)$"
   ]
  },
  {
   "cell_type": "code",
   "execution_count": 11,
   "metadata": {
    "colab": {},
    "colab_type": "code",
    "id": "u5b4iBbgTd8_"
   },
   "outputs": [
    {
     "data": {
      "text/plain": [
       "26.0"
      ]
     },
     "execution_count": 11,
     "metadata": {},
     "output_type": "execute_result"
    }
   ],
   "source": [
    "jawaban_11 = ((3*8)/4) + (4*5)\n",
    "jawaban_11"
   ]
  },
  {
   "cell_type": "markdown",
   "metadata": {
    "colab_type": "text",
    "id": "X9lcVXdcTd9B"
   },
   "source": [
    "12. Lala sedang berbelanja barang di supermarket, dengan harga terlampir di bawah ini. Lala membeli 1 potong ayam, 4 ekor ikan kembung, 3 ikat kangkung, dan 2 botol susu. Lalu Lala mendapat diskon sebesar 25% dari total harga yang dibayarkan \n",
    "\n",
    "    Tuliskan biaya yang harus dibayar Adi sebagai operasi di bawah ini dan jalankan perhitungannya.\n",
    "\n",
    "| barang      | harga  |\n",
    "|-------------|--------|\n",
    "| ayam        | 20000  |\n",
    "| ikan kembung| 15000 |\n",
    "| sayur kangkung | 10000  |\n",
    "| susu        | 22000  |"
   ]
  },
  {
   "cell_type": "code",
   "execution_count": 12,
   "metadata": {
    "colab": {},
    "colab_type": "code",
    "id": "px1m7D9NTd9C"
   },
   "outputs": [
    {
     "name": "stdout",
     "output_type": "stream",
     "text": [
      "Biaya yang harus dibayar oleh Adi adalah Rp.38500.0\n"
     ]
    }
   ],
   "source": [
    "ayam = 20000\n",
    "ikan_kembung = 15000\n",
    "sayur_kangkung = 10000\n",
    "susu = 22000\n",
    "diskon = 25/100\n",
    "\n",
    "jawaban_12 = (ayam + (4*ikan_kembung) + (3*sayur_kangkung) + (2*susu))*diskon\n",
    "kalimat = \"Biaya yang harus dibayar oleh Adi adalah Rp.{}\"\n",
    "print(kalimat.format(jawaban_12))"
   ]
  },
  {
   "cell_type": "markdown",
   "metadata": {
    "colab_type": "text",
    "id": "apXGBudnTd9E"
   },
   "source": [
    "13. Surti, remaja anak bapak kades dan si Tejo, jejaka yang baru saja mudik berencana untuk menikah 2 tahun dari sekarang. Jika biaya pernikahan dan resepsi di kampung mereka adalah 48.000.000, berapa uang yang harus ditabung mereka berdua per bulannya agar 2 tahun lagi mereka bisa menikah?\n",
    "\n",
    "    asumsi: tidak ada inflasi, dan semua harga selalu konstan."
   ]
  },
  {
   "cell_type": "code",
   "execution_count": 13,
   "metadata": {
    "colab": {},
    "colab_type": "code",
    "id": "SJZeQlRGTd9E"
   },
   "outputs": [
    {
     "name": "stdout",
     "output_type": "stream",
     "text": [
      "Uang yang harus ditabung oleh mereka berdua per bulannya adalah Rp.2000000.0\n"
     ]
    }
   ],
   "source": [
    "biaya_nikah = 48000000\n",
    "jawaban_13 = biaya_nikah/24\n",
    "print(\"Uang yang harus ditabung oleh mereka berdua per bulannya adalah Rp.\" + str(jawaban_13))"
   ]
  },
  {
   "cell_type": "markdown",
   "metadata": {
    "colab_type": "text",
    "id": "t6zq8ndETd9G"
   },
   "source": [
    "14. Sebuah bioskop ingin memutar film dan menampilkan judul film tersebut di website mereka. Namun judul film tersebut semuanya memakai huruf kecil. Bantulah bioskop tersebut\n",
    "\n",
    "Hint: Pakai method di dalam string"
   ]
  },
  {
   "cell_type": "code",
   "execution_count": 14,
   "metadata": {
    "colab": {},
    "colab_type": "code",
    "id": "QppBED31Td9H"
   },
   "outputs": [
    {
     "data": {
      "text/plain": [
       "'The Lord Of The Rings: The Return Of The King'"
      ]
     },
     "execution_count": 14,
     "metadata": {},
     "output_type": "execute_result"
    }
   ],
   "source": [
    "judul = 'the lord of the rings: the return of the king'\n",
    "jawaban_14 = judul.title()\n",
    "jawaban_14"
   ]
  },
  {
   "cell_type": "markdown",
   "metadata": {
    "colab_type": "text",
    "id": "SGZoVCxvTd9J"
   },
   "source": [
    "15. Carilah ada berapa kata 'gandalf' di dalam teks berikut. (tidak case sensitive)"
   ]
  },
  {
   "cell_type": "code",
   "execution_count": 15,
   "metadata": {
    "colab": {},
    "colab_type": "code",
    "id": "Phdw2URbTd9J"
   },
   "outputs": [
    {
     "data": {
      "text/plain": [
       "3"
      ]
     },
     "execution_count": 15,
     "metadata": {},
     "output_type": "execute_result"
    }
   ],
   "source": [
    "teks = \"Centuries later, during the War of the Ring, Gandalf leads Aragorn, Legolas, Gimli, and King Théoden to Isengard, \\\n",
    "        where they reunite with Merry and Pippin. Gandalf retrieves the defeated Saruman's palantír. Pippin later looks  \\\n",
    "        into the seeing-stone and is seen by Sauron. From Pippin's description of his visions, Gandalf surmises that Sauron \\\n",
    "        will attack Gondor's capital Minas Tirith. He rides there to warn Gondor's steward Denethor, taking Pippin with him.\"\n",
    "\n",
    "# kode anda\n",
    "jawaban_15 = teks.lower().count('gandalf')\n",
    "jawaban_15"
   ]
  },
  {
   "cell_type": "code",
   "execution_count": null,
   "metadata": {},
   "outputs": [],
   "source": []
  }
 ],
 "metadata": {
  "colab": {
   "collapsed_sections": [],
   "name": "Tugas1.ipynb",
   "provenance": []
  },
  "kernelspec": {
   "display_name": "Python 3",
   "language": "python",
   "name": "python3"
  },
  "language_info": {
   "codemirror_mode": {
    "name": "ipython",
    "version": 3
   },
   "file_extension": ".py",
   "mimetype": "text/x-python",
   "name": "python",
   "nbconvert_exporter": "python",
   "pygments_lexer": "ipython3",
   "version": "3.7.3"
  }
 },
 "nbformat": 4,
 "nbformat_minor": 1
}
